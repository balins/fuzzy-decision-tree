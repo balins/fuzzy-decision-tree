{
  "cells": [
    {
      "cell_type": "code",
      "execution_count": null,
      "metadata": {
        "collapsed": false
      },
      "outputs": [],
      "source": [
        "%matplotlib inline"
      ]
    },
    {
      "cell_type": "markdown",
      "metadata": {},
      "source": [
        "\n# Plotting Fuzzy Decision Tree Classifier\n\nAn example plot of :class:`FuzzyDecisionTreeClassifier`\n"
      ]
    },
    {
      "cell_type": "code",
      "execution_count": null,
      "metadata": {
        "collapsed": false
      },
      "outputs": [],
      "source": [
        "from matplotlib import pyplot as plt\nfrom mlxtend.plotting import plot_decision_regions\nfrom sklearn.datasets import make_blobs\n\nfrom fuzzytree import FuzzyDecisionTreeClassifier\n\nX, y = make_blobs(n_samples=300, n_features=2, centers=[[-23, -12], [12, 42], [52, 2], [-18, 41]],\n                  cluster_std=[10, 25, 12, 11], random_state=42)\n\nclf = FuzzyDecisionTreeClassifier().fit(X, y)\n\nax = plt.plot()\nfig = plot_decision_regions(X=X, y=y, clf=clf, legend=2)\nplt.title(\"Fuzzy Tree Classification on blobs\")\nplt.xlabel('Feature 1')\nplt.ylabel('Feature 2')\n\nplt.show()"
      ]
    }
  ],
  "metadata": {
    "kernelspec": {
      "display_name": "Python 3",
      "language": "python",
      "name": "python3"
    },
    "language_info": {
      "codemirror_mode": {
        "name": "ipython",
        "version": 3
      },
      "file_extension": ".py",
      "mimetype": "text/x-python",
      "name": "python",
      "nbconvert_exporter": "python",
      "pygments_lexer": "ipython3",
      "version": "3.9.5"
    }
  },
  "nbformat": 4,
  "nbformat_minor": 0
}